{
 "cells": [
  {
   "cell_type": "code",
   "execution_count": 1,
   "metadata": {},
   "outputs": [
    {
     "name": "stdout",
     "output_type": "stream",
     "text": [
      "importing Jupyter notebook from loaddataset.ipynb\n",
      "importing Jupyter notebook from preprocessing.ipynb\n"
     ]
    }
   ],
   "source": [
    "import re, os, random, warnings\n",
    "warnings.filterwarnings('ignore')\n",
    "import tensorflow as tf\n",
    "import logging\n",
    "tf.get_logger().setLevel(logging.ERROR)\n",
    "import numpy as np\n",
    "import import_ipynb\n",
    "import loaddataset, preprocessing\n",
    "from playsound import playsound"
   ]
  },
  {
   "cell_type": "code",
   "execution_count": 2,
   "metadata": {},
   "outputs": [],
   "source": [
    "class_names = ['banjo', 'cello', 'clarinet', 'french horn', 'guitar', 'oboe', 'trumpet', 'violin']"
   ]
  },
  {
   "cell_type": "code",
   "execution_count": 3,
   "metadata": {},
   "outputs": [],
   "source": [
    "def randomfile(path):\n",
    "    r=re.compile(r'.*_.*4_.*')  #Using regex to take file only from 4th octave\n",
    "    n=0\n",
    "    random.seed();\n",
    "    for root, dirs, files in os.walk(path):\n",
    "        files=list(filter(r.match,files))\n",
    "        for name in files:\n",
    "            n=n+1\n",
    "            if random.uniform(0, n) < 1:\n",
    "                rfile=os.path.join(root, name)\n",
    "    return rfile"
   ]
  },
  {
   "cell_type": "code",
   "execution_count": 4,
   "metadata": {},
   "outputs": [],
   "source": [
    "n_input = 50\n",
    "n_classes = 8\n",
    "n_hidden_1 = 90\n",
    "\n",
    "x = tf.placeholder(\"float\", [None, n_input])\n",
    "y = tf.placeholder(\"float\", [None, n_classes])\n",
    "def multilayer_perceptron(x, weights, biases, rate):\n",
    "    layer_1 = tf.add(tf.matmul(x, weights['h1']), biases['b1'])\n",
    "    layer_1 = tf.nn.relu(layer_1)\n",
    "    layer_1 = tf.nn.dropout(layer_1, rate)\n",
    "    out_layer = tf.matmul(layer_1, weights['out']) + biases['out']\n",
    "    return out_layer\n",
    "\n",
    "\n",
    "weights = {\n",
    "        'h1': tf.Variable(tf.random_normal([n_input, n_hidden_1])),\n",
    "        'out': tf.Variable(tf.random_normal([n_hidden_1, n_classes]))\n",
    "    }\n",
    "\n",
    "biases = {\n",
    "        'b1': tf.Variable(tf.random_normal([n_hidden_1])),\n",
    "        'out': tf.Variable(tf.random_normal([n_classes]))\n",
    "    }\n",
    "\n",
    "rate = tf.placeholder(\"float\")\n",
    "warnings.filterwarnings('ignore')\n",
    "predictions = multilayer_perceptron(x, weights, biases, rate)\n",
    "    \n",
    "saver = tf.train.Saver()\n",
    "model_path = \"trainedmodel/model.ckpt\"\n",
    "\n",
    "def predict(X):\n",
    "    with tf.Session() as sess:\n",
    "        # Initialize variables\n",
    "        sess.run(tf.global_variables_initializer())\n",
    "        # Restore model weights from previously saved model\n",
    "        load_path = saver.restore(sess, model_path)\n",
    "        warnings.filterwarnings('ignore')\n",
    "\n",
    "        #Predictions\n",
    "        pred = predictions.eval(feed_dict = {x:X, rate: 1 })\n",
    "                                                    #keep_prob is deprecated and will be removed in a future version\n",
    "        print('This is',class_names[int(pred.argmax(axis=1))] )\n",
    "    "
   ]
  },
  {
   "cell_type": "code",
   "execution_count": 6,
   "metadata": {},
   "outputs": [
    {
     "name": "stdout",
     "output_type": "stream",
     "text": [
      "Press Enter to select any random file and Predict\n",
      "    Press 'q' and hit Enter to Exit: \n",
      "\n",
      "This is cello\n",
      "\n",
      "This is oboe\n",
      "q\n"
     ]
    }
   ],
   "source": [
    "if __name__==\"__main__\":\n",
    "    print('''Press Enter to select any random file and Predict\n",
    "    Press 'q' and hit Enter to Exit: ''')\n",
    "    while input()!='q':\n",
    "        path = randomfile('Dataset/')\n",
    "        #print(path)\n",
    "        playsound(path)\n",
    "        xtemp = preprocessing.audioToVector(path)\n",
    "        X = np.array(xtemp)[np.newaxis,:]\n",
    "        X = (X-min(X[0])) / (max(X[0])-min(X[0]))\n",
    "        predict(X)\n",
    "    print('Exit')\n"
   ]
  },
  {
   "cell_type": "code",
   "execution_count": null,
   "metadata": {},
   "outputs": [],
   "source": []
  }
 ],
 "metadata": {
  "kernelspec": {
   "display_name": "Python 3",
   "language": "python",
   "name": "python3"
  },
  "language_info": {
   "codemirror_mode": {
    "name": "ipython",
    "version": 3
   },
   "file_extension": ".py",
   "mimetype": "text/x-python",
   "name": "python",
   "nbconvert_exporter": "python",
   "pygments_lexer": "ipython3",
   "version": "3.7.5rc1"
  }
 },
 "nbformat": 4,
 "nbformat_minor": 2
}
